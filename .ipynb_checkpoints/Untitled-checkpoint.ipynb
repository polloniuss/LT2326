{
 "cells": [
  {
   "cell_type": "code",
   "execution_count": 2,
   "id": "59540c6e",
   "metadata": {},
   "outputs": [],
   "source": [
    "\n",
    "from PIL import Image\n",
    "import cv2\n",
    "import numpy as np\n",
    "\n",
    "import matplotlib.pyplot as plt\n",
    "import matplotlib.image as mpimg\n",
    "import matplotlib.path as mppath\n",
    "import os\n",
    "import json\n",
    "\n",
    "img_dir = '/scratch/lt2326-h21/a1/images/'\n",
    "meta_file = '/scratch/lt2326-h21/a1/info.json'\n",
    "annotation_file = '/scratch/lt2326-h21/a1/train.jsonl'\n",
    "\n",
    "# open folder, loop through files, check if file in training set\n",
    "with open(meta_file, \"r\") as json_file:\n",
    "    meta = json.load(json_file)\n",
    "    train_file_names = [obj['file_name'] for obj in meta['train']]\n",
    "    files_to_keep = [img_path for img_path in os.listdir(img_dir) if img_path in train_file_names]\n",
    "\n",
    "# split into training, validation, and test datasets\n",
    "from sklearn.model_selection import train_test_split\n",
    "training_data, temp_data = train_test_split(files_to_keep, test_size=0.3)\n",
    "validation_data = temp_data[:len(temp_data)//2]\n",
    "testing_data = temp_data[len(temp_data)//2:]\n",
    "\n",
    "# find the corresponding bounding box information for each image\n",
    "def get_bounding_boxes(files_list):\n",
    "    with open(annotation_file, \"r\") as jsonl_file:\n",
    "        result = {}\n",
    "        for line in jsonl_file:\n",
    "            line_as_dict = json.loads(line)\n",
    "            if line_as_dict['file_name'] in files_list:\n",
    "                for sentence in line_as_dict['annotations']:\n",
    "                    for instance in sentence:\n",
    "                        if instance['is_chinese']:\n",
    "                            if line_as_dict['file_name'] not in result:\n",
    "                                result[line_as_dict['file_name']] = []\n",
    "                            result[line_as_dict['file_name']].append(instance['polygon'])\n",
    "        return result\n",
    "                            \n",
    "def get_bounding_box1(data):\n",
    "    with open('/scratch/lt2326-h21/a1/train.jsonl') as jsonl_f:\n",
    "        jsonl_data = [json.loads(x) for x in jsonl_f]\n",
    "        #images_polygons = []\n",
    "\n",
    "        for dictionary in jsonl_data:\n",
    "            if dictionary['file_name'] in data:\n",
    "                insider_data = {dictionary['file_name']:[]}\n",
    "\n",
    "                for sentence in dictionary['annotations']:\n",
    "                    for character in sentence:\n",
    "                        if character['is_chinese']:\n",
    "                            insider_data[dictionary['file_name']].append(character['polygon'])\n",
    "                #images_polygons.append(insider_data)\n",
    "        \n",
    "        return insider_data #images_polygons\n",
    "        \n",
    "training_dict = get_bounding_boxes(training_data)\n",
    "validation_dict = get_bounding_boxes(validation_data)\n",
    "testing_dict = get_bounding_boxes(testing_data)\n",
    "\n"
   ]
  },
  {
   "cell_type": "code",
   "execution_count": 3,
   "id": "c9778214",
   "metadata": {},
   "outputs": [],
   "source": [
    "\n",
    "grid = np.array([[[a,b] for b in list(range(2048))] for a in list(range(2048))])\n",
    "grid = grid.reshape(2048*2048, 2)\n",
    "\n",
    "# training data is tuple (img, pixel_labels)\n",
    "# where img is of shape (2048, 2048, 3) (3 is rgb values of the pixel)\n",
    "# pixel_labels is of shape (4194304,)\n",
    "# meaning each pixel in img should have a label 1 or 0, corresponding if that pixel is inside the polygon\n",
    "\n",
    "def get_pixel_labels(img_key, data_dict):\n",
    "    # convert to numpy array\n",
    "    img_array = mpimg.imread(img_dir + img_key)\n",
    "\n",
    "    # if pixel is inside polygon, give it label true\n",
    "    # if not, give label false\n",
    "    final_labels = []\n",
    "    for polygon in data_dict[img_key]:\n",
    "        path = mppath.Path(np.array(polygon))\n",
    "        pixel_labels = np.asarray(path.contains_points(grid), int)\n",
    "        if len(final_labels) < 1:\n",
    "            final_labels = pixel_labels\n",
    "        else:\n",
    "            final_labels = np.maximum(final_labels, pixel_labels) # replace old zeros with ones\n",
    "\n",
    "    return (img_array, pixel_labels)\n",
    "\n",
    "\n",
    "def parallel_processing(img_key, data_dict):\n",
    "    return (get_pixel_labels(img_key, data_dict))\n",
    "\n",
    "\n",
    "def process_in_parallel(validation_data_list):\n",
    "\n",
    "    tic = time.time()\n",
    "    processed_data = Parallel(n_jobs=10)(delayed(parallel_processing)(img_key, validation_dict) for img_key in list(validation_dict.keys()))\n",
    "    toc = time.time()\n",
    "\n",
    "    print('Elapsed time for the entire processing: {:.2f} s'.format(toc - tic))\n",
    "    \n",
    "    return processed_data"
   ]
  },
  {
   "cell_type": "code",
   "execution_count": 4,
   "id": "2676d65e",
   "metadata": {},
   "outputs": [
    {
     "name": "stdout",
     "output_type": "stream",
     "text": [
      "Processing training data...\n",
      "Elapsed time for the entire processing: 83.36 s\n",
      "Processing test data...\n",
      "Elapsed time for the entire processing: 82.08 s\n",
      "Processing validation data...\n",
      "Elapsed time for the entire processing: 82.45 s\n"
     ]
    }
   ],
   "source": [
    "from joblib import Parallel, delayed\n",
    "import time\n",
    "\n",
    "print(\"Processing training data...\")\n",
    "train_processed = process_in_parallel(training_dict)\n",
    "print(\"Processing test data...\")\n",
    "test_processed = process_in_parallel(testing_dict)\n",
    "print(\"Processing validation data...\")\n",
    "val_processed = process_in_parallel(validation_dict)"
   ]
  },
  {
   "cell_type": "code",
   "execution_count": 5,
   "id": "6eeea941",
   "metadata": {},
   "outputs": [
    {
     "name": "stdout",
     "output_type": "stream",
     "text": [
      "127\n"
     ]
    }
   ],
   "source": [
    "print(len(list(validation_dict.keys())))"
   ]
  },
  {
   "cell_type": "code",
   "execution_count": null,
   "id": "60028bf8",
   "metadata": {},
   "outputs": [],
   "source": []
  },
  {
   "cell_type": "code",
   "execution_count": null,
   "id": "78520c55",
   "metadata": {},
   "outputs": [],
   "source": []
  }
 ],
 "metadata": {
  "kernelspec": {
   "display_name": "Python 3 (ipykernel)",
   "language": "python",
   "name": "python3"
  },
  "language_info": {
   "codemirror_mode": {
    "name": "ipython",
    "version": 3
   },
   "file_extension": ".py",
   "mimetype": "text/x-python",
   "name": "python",
   "nbconvert_exporter": "python",
   "pygments_lexer": "ipython3",
   "version": "3.9.6"
  }
 },
 "nbformat": 4,
 "nbformat_minor": 5
}

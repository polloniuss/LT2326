{
 "cells": [
  {
   "cell_type": "code",
   "execution_count": null,
   "metadata": {},
   "outputs": [],
   "source": [
    "#!/usr/bin/python\n",
    "\n",
    "import os\n",
    "import sys\n",
    "import torch\n",
    "import torch.nn\n",
    "#import model"
   ]
  },
  {
   "cell_type": "code",
   "execution_count": null,
   "metadata": {},
   "outputs": [],
   "source": [
    "def load_data(x_filename,y_filename,numchars):\n",
    "    with open(x_filename) as x_file, open(y_filename) as y_file:\n",
    "        parsed = []\n",
    "        for item in zip(x_file,y_file):\n",
    "            word = item[0][:numchars]\n",
    "            percent_str = item[0][numchars+1:]\n",
    "            parsed.append([(word,float(percent_str)), item[1][:-1]])\n",
    "            \n",
    "    x_out, y_out = zip(*parsed)\n",
    "    return list(x_out), list(y_out)\n",
    "\n",
    "def map_data(xdata):\n",
    "    items, percent = zip(*xdata)\n",
    "    charlist = set()\n",
    "    for i in items:\n",
    "        charlist.update(list(i))\n",
    "    charlist = list(charlist)\n",
    "    chardict = {charlist[y]:y for y in range(len(charlist))}\n",
    "    mapped_items = [[chardict[c] for c in list(i)] for i in items]\n",
    "    return zip(mapped_items, percent), chardict\n",
    "\n",
    "def map_classes(ydata):\n",
    "    classes = list(set(ydata))\n",
    "    classmap = {classes[y]:y for y in range(len(classes))}\n",
    "    mapped_classes = [classmap[c] for c in ydata]\n",
    "    return mapped_classes, classmap\n",
    "    \n",
    "if __name__ == \"__main__\":\n",
    "    #load the data\n",
    "    pass\n",
    "    #create the instance representation\n",
    "    #run the training loop\n"
   ]
  }
 ],
 "metadata": {
  "kernelspec": {
   "display_name": "Python 3",
   "language": "python",
   "name": "python3"
  },
  "language_info": {
   "codemirror_mode": {
    "name": "ipython",
    "version": 3
   },
   "file_extension": ".py",
   "mimetype": "text/x-python",
   "name": "python",
   "nbconvert_exporter": "python",
   "pygments_lexer": "ipython3",
   "version": "3.8.10"
  }
 },
 "nbformat": 4,
 "nbformat_minor": 4
}
